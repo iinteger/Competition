{
 "cells": [
  {
   "cell_type": "markdown",
   "source": [
    "# Vanilla AutoEncoder\n",
    "* 이상 라벨 없이 reconstruction error에 기반해서 탐지"
   ],
   "metadata": {
    "collapsed": false,
    "pycharm": {
     "name": "#%% md\n"
    }
   }
  },
  {
   "cell_type": "code",
   "execution_count": 155,
   "outputs": [],
   "source": [
    "import pandas as pd\n",
    "import numpy as np\n",
    "\n",
    "SEED = 42\n",
    "np.random.seed(SEED)\n",
    "data = pd.read_csv(\"data/creditcard.csv\")"
   ],
   "metadata": {
    "collapsed": false,
    "pycharm": {
     "name": "#%%\n"
    }
   }
  },
  {
   "cell_type": "code",
   "execution_count": 156,
   "outputs": [
    {
     "data": {
      "text/plain": "                Time            V1            V2            V3            V4  \\\ncount  284807.000000  2.848070e+05  2.848070e+05  2.848070e+05  2.848070e+05   \nmean    94813.859575  1.165980e-15  3.416908e-16 -1.373150e-15  2.086869e-15   \nstd     47488.145955  1.958696e+00  1.651309e+00  1.516255e+00  1.415869e+00   \nmin         0.000000 -5.640751e+01 -7.271573e+01 -4.832559e+01 -5.683171e+00   \n25%     54201.500000 -9.203734e-01 -5.985499e-01 -8.903648e-01 -8.486401e-01   \n50%     84692.000000  1.810880e-02  6.548556e-02  1.798463e-01 -1.984653e-02   \n75%    139320.500000  1.315642e+00  8.037239e-01  1.027196e+00  7.433413e-01   \nmax    172792.000000  2.454930e+00  2.205773e+01  9.382558e+00  1.687534e+01   \n\n                 V5            V6            V7            V8            V9  \\\ncount  2.848070e+05  2.848070e+05  2.848070e+05  2.848070e+05  2.848070e+05   \nmean   9.604066e-16  1.490107e-15 -5.556467e-16  1.177556e-16 -2.406455e-15   \nstd    1.380247e+00  1.332271e+00  1.237094e+00  1.194353e+00  1.098632e+00   \nmin   -1.137433e+02 -2.616051e+01 -4.355724e+01 -7.321672e+01 -1.343407e+01   \n25%   -6.915971e-01 -7.682956e-01 -5.540759e-01 -2.086297e-01 -6.430976e-01   \n50%   -5.433583e-02 -2.741871e-01  4.010308e-02  2.235804e-02 -5.142873e-02   \n75%    6.119264e-01  3.985649e-01  5.704361e-01  3.273459e-01  5.971390e-01   \nmax    3.480167e+01  7.330163e+01  1.205895e+02  2.000721e+01  1.559499e+01   \n\n       ...           V21           V22           V23           V24  \\\ncount  ...  2.848070e+05  2.848070e+05  2.848070e+05  2.848070e+05   \nmean   ...  1.656562e-16 -3.444850e-16  2.578648e-16  4.471968e-15   \nstd    ...  7.345240e-01  7.257016e-01  6.244603e-01  6.056471e-01   \nmin    ... -3.483038e+01 -1.093314e+01 -4.480774e+01 -2.836627e+00   \n25%    ... -2.283949e-01 -5.423504e-01 -1.618463e-01 -3.545861e-01   \n50%    ... -2.945017e-02  6.781943e-03 -1.119293e-02  4.097606e-02   \n75%    ...  1.863772e-01  5.285536e-01  1.476421e-01  4.395266e-01   \nmax    ...  2.720284e+01  1.050309e+01  2.252841e+01  4.584549e+00   \n\n                V25           V26           V27           V28         Amount  \\\ncount  2.848070e+05  2.848070e+05  2.848070e+05  2.848070e+05  284807.000000   \nmean   5.340915e-16  1.687098e-15 -3.666453e-16 -1.220404e-16      88.349619   \nstd    5.212781e-01  4.822270e-01  4.036325e-01  3.300833e-01     250.120109   \nmin   -1.029540e+01 -2.604551e+00 -2.256568e+01 -1.543008e+01       0.000000   \n25%   -3.171451e-01 -3.269839e-01 -7.083953e-02 -5.295979e-02       5.600000   \n50%    1.659350e-02 -5.213911e-02  1.342146e-03  1.124383e-02      22.000000   \n75%    3.507156e-01  2.409522e-01  9.104512e-02  7.827995e-02      77.165000   \nmax    7.519589e+00  3.517346e+00  3.161220e+01  3.384781e+01   25691.160000   \n\n               Class  \ncount  284807.000000  \nmean        0.001727  \nstd         0.041527  \nmin         0.000000  \n25%         0.000000  \n50%         0.000000  \n75%         0.000000  \nmax         1.000000  \n\n[8 rows x 31 columns]",
      "text/html": "<div>\n<style scoped>\n    .dataframe tbody tr th:only-of-type {\n        vertical-align: middle;\n    }\n\n    .dataframe tbody tr th {\n        vertical-align: top;\n    }\n\n    .dataframe thead th {\n        text-align: right;\n    }\n</style>\n<table border=\"1\" class=\"dataframe\">\n  <thead>\n    <tr style=\"text-align: right;\">\n      <th></th>\n      <th>Time</th>\n      <th>V1</th>\n      <th>V2</th>\n      <th>V3</th>\n      <th>V4</th>\n      <th>V5</th>\n      <th>V6</th>\n      <th>V7</th>\n      <th>V8</th>\n      <th>V9</th>\n      <th>...</th>\n      <th>V21</th>\n      <th>V22</th>\n      <th>V23</th>\n      <th>V24</th>\n      <th>V25</th>\n      <th>V26</th>\n      <th>V27</th>\n      <th>V28</th>\n      <th>Amount</th>\n      <th>Class</th>\n    </tr>\n  </thead>\n  <tbody>\n    <tr>\n      <th>count</th>\n      <td>284807.000000</td>\n      <td>2.848070e+05</td>\n      <td>2.848070e+05</td>\n      <td>2.848070e+05</td>\n      <td>2.848070e+05</td>\n      <td>2.848070e+05</td>\n      <td>2.848070e+05</td>\n      <td>2.848070e+05</td>\n      <td>2.848070e+05</td>\n      <td>2.848070e+05</td>\n      <td>...</td>\n      <td>2.848070e+05</td>\n      <td>2.848070e+05</td>\n      <td>2.848070e+05</td>\n      <td>2.848070e+05</td>\n      <td>2.848070e+05</td>\n      <td>2.848070e+05</td>\n      <td>2.848070e+05</td>\n      <td>2.848070e+05</td>\n      <td>284807.000000</td>\n      <td>284807.000000</td>\n    </tr>\n    <tr>\n      <th>mean</th>\n      <td>94813.859575</td>\n      <td>1.165980e-15</td>\n      <td>3.416908e-16</td>\n      <td>-1.373150e-15</td>\n      <td>2.086869e-15</td>\n      <td>9.604066e-16</td>\n      <td>1.490107e-15</td>\n      <td>-5.556467e-16</td>\n      <td>1.177556e-16</td>\n      <td>-2.406455e-15</td>\n      <td>...</td>\n      <td>1.656562e-16</td>\n      <td>-3.444850e-16</td>\n      <td>2.578648e-16</td>\n      <td>4.471968e-15</td>\n      <td>5.340915e-16</td>\n      <td>1.687098e-15</td>\n      <td>-3.666453e-16</td>\n      <td>-1.220404e-16</td>\n      <td>88.349619</td>\n      <td>0.001727</td>\n    </tr>\n    <tr>\n      <th>std</th>\n      <td>47488.145955</td>\n      <td>1.958696e+00</td>\n      <td>1.651309e+00</td>\n      <td>1.516255e+00</td>\n      <td>1.415869e+00</td>\n      <td>1.380247e+00</td>\n      <td>1.332271e+00</td>\n      <td>1.237094e+00</td>\n      <td>1.194353e+00</td>\n      <td>1.098632e+00</td>\n      <td>...</td>\n      <td>7.345240e-01</td>\n      <td>7.257016e-01</td>\n      <td>6.244603e-01</td>\n      <td>6.056471e-01</td>\n      <td>5.212781e-01</td>\n      <td>4.822270e-01</td>\n      <td>4.036325e-01</td>\n      <td>3.300833e-01</td>\n      <td>250.120109</td>\n      <td>0.041527</td>\n    </tr>\n    <tr>\n      <th>min</th>\n      <td>0.000000</td>\n      <td>-5.640751e+01</td>\n      <td>-7.271573e+01</td>\n      <td>-4.832559e+01</td>\n      <td>-5.683171e+00</td>\n      <td>-1.137433e+02</td>\n      <td>-2.616051e+01</td>\n      <td>-4.355724e+01</td>\n      <td>-7.321672e+01</td>\n      <td>-1.343407e+01</td>\n      <td>...</td>\n      <td>-3.483038e+01</td>\n      <td>-1.093314e+01</td>\n      <td>-4.480774e+01</td>\n      <td>-2.836627e+00</td>\n      <td>-1.029540e+01</td>\n      <td>-2.604551e+00</td>\n      <td>-2.256568e+01</td>\n      <td>-1.543008e+01</td>\n      <td>0.000000</td>\n      <td>0.000000</td>\n    </tr>\n    <tr>\n      <th>25%</th>\n      <td>54201.500000</td>\n      <td>-9.203734e-01</td>\n      <td>-5.985499e-01</td>\n      <td>-8.903648e-01</td>\n      <td>-8.486401e-01</td>\n      <td>-6.915971e-01</td>\n      <td>-7.682956e-01</td>\n      <td>-5.540759e-01</td>\n      <td>-2.086297e-01</td>\n      <td>-6.430976e-01</td>\n      <td>...</td>\n      <td>-2.283949e-01</td>\n      <td>-5.423504e-01</td>\n      <td>-1.618463e-01</td>\n      <td>-3.545861e-01</td>\n      <td>-3.171451e-01</td>\n      <td>-3.269839e-01</td>\n      <td>-7.083953e-02</td>\n      <td>-5.295979e-02</td>\n      <td>5.600000</td>\n      <td>0.000000</td>\n    </tr>\n    <tr>\n      <th>50%</th>\n      <td>84692.000000</td>\n      <td>1.810880e-02</td>\n      <td>6.548556e-02</td>\n      <td>1.798463e-01</td>\n      <td>-1.984653e-02</td>\n      <td>-5.433583e-02</td>\n      <td>-2.741871e-01</td>\n      <td>4.010308e-02</td>\n      <td>2.235804e-02</td>\n      <td>-5.142873e-02</td>\n      <td>...</td>\n      <td>-2.945017e-02</td>\n      <td>6.781943e-03</td>\n      <td>-1.119293e-02</td>\n      <td>4.097606e-02</td>\n      <td>1.659350e-02</td>\n      <td>-5.213911e-02</td>\n      <td>1.342146e-03</td>\n      <td>1.124383e-02</td>\n      <td>22.000000</td>\n      <td>0.000000</td>\n    </tr>\n    <tr>\n      <th>75%</th>\n      <td>139320.500000</td>\n      <td>1.315642e+00</td>\n      <td>8.037239e-01</td>\n      <td>1.027196e+00</td>\n      <td>7.433413e-01</td>\n      <td>6.119264e-01</td>\n      <td>3.985649e-01</td>\n      <td>5.704361e-01</td>\n      <td>3.273459e-01</td>\n      <td>5.971390e-01</td>\n      <td>...</td>\n      <td>1.863772e-01</td>\n      <td>5.285536e-01</td>\n      <td>1.476421e-01</td>\n      <td>4.395266e-01</td>\n      <td>3.507156e-01</td>\n      <td>2.409522e-01</td>\n      <td>9.104512e-02</td>\n      <td>7.827995e-02</td>\n      <td>77.165000</td>\n      <td>0.000000</td>\n    </tr>\n    <tr>\n      <th>max</th>\n      <td>172792.000000</td>\n      <td>2.454930e+00</td>\n      <td>2.205773e+01</td>\n      <td>9.382558e+00</td>\n      <td>1.687534e+01</td>\n      <td>3.480167e+01</td>\n      <td>7.330163e+01</td>\n      <td>1.205895e+02</td>\n      <td>2.000721e+01</td>\n      <td>1.559499e+01</td>\n      <td>...</td>\n      <td>2.720284e+01</td>\n      <td>1.050309e+01</td>\n      <td>2.252841e+01</td>\n      <td>4.584549e+00</td>\n      <td>7.519589e+00</td>\n      <td>3.517346e+00</td>\n      <td>3.161220e+01</td>\n      <td>3.384781e+01</td>\n      <td>25691.160000</td>\n      <td>1.000000</td>\n    </tr>\n  </tbody>\n</table>\n<p>8 rows × 31 columns</p>\n</div>"
     },
     "execution_count": 156,
     "metadata": {},
     "output_type": "execute_result"
    }
   ],
   "source": [
    "data.describe()"
   ],
   "metadata": {
    "collapsed": false,
    "pycharm": {
     "name": "#%%\n"
    }
   }
  },
  {
   "cell_type": "code",
   "execution_count": 157,
   "outputs": [
    {
     "name": "stdout",
     "output_type": "stream",
     "text": [
      "(213236, 30)\n",
      "(71202, 30)\n"
     ]
    }
   ],
   "source": [
    "X_data = data.drop(\"Class\", axis=1)\n",
    "y_data = data[\"Class\"]\n",
    "\n",
    "#X_data.drop(\"Time\", axis=1, inplace=True)\n",
    "\n",
    "from sklearn.preprocessing import StandardScaler, MinMaxScaler\n",
    "from sklearn.model_selection import train_test_split\n",
    "\n",
    "X_train, X_valid, y_train, y_valid = train_test_split(X_data, y_data, stratify=y_data)\n",
    "\n",
    "scaler = MinMaxScaler()\n",
    "#scaler = StandardScaler()\n",
    "X_train = scaler.fit_transform(X_train)\n",
    "X_valid = scaler.transform(X_valid)\n",
    "\n",
    "zero_index = np.where(y_train==0)\n",
    "X_train = X_train[zero_index]\n",
    "\n",
    "print(X_train.shape)\n",
    "print(X_valid.shape)"
   ],
   "metadata": {
    "collapsed": false,
    "pycharm": {
     "name": "#%%\n"
    }
   }
  },
  {
   "cell_type": "code",
   "execution_count": 158,
   "outputs": [
    {
     "name": "stdout",
     "output_type": "stream",
     "text": [
      "Model: \"model_14\"\n",
      "_________________________________________________________________\n",
      "Layer (type)                 Output Shape              Param #   \n",
      "=================================================================\n",
      "input_15 (InputLayer)        [(None, 30)]              0         \n",
      "_________________________________________________________________\n",
      "dense_44 (Dense)             (None, 5)                 155       \n",
      "_________________________________________________________________\n",
      "dense_45 (Dense)             (None, 30)                180       \n",
      "=================================================================\n",
      "Total params: 335\n",
      "Trainable params: 335\n",
      "Non-trainable params: 0\n",
      "_________________________________________________________________\n"
     ]
    }
   ],
   "source": [
    "from tensorflow.keras.layers import Input, Dense\n",
    "from tensorflow.keras.models import Model\n",
    "\n",
    "input = Input(shape=(30, ))\n",
    "hidden = Dense(5, activation=\"relu\")(input)\n",
    "output = Dense(30, activation=\"linear\")(hidden)\n",
    "\n",
    "model = Model(inputs = input, outputs=output)\n",
    "model.compile(loss=\"MSE\", optimizer=\"Adam\", metrics=[\"mse\"])\n",
    "model.summary()"
   ],
   "metadata": {
    "collapsed": false,
    "pycharm": {
     "name": "#%%\n"
    }
   }
  },
  {
   "cell_type": "code",
   "execution_count": 159,
   "outputs": [
    {
     "name": "stdout",
     "output_type": "stream",
     "text": [
      "Epoch 1/5\n",
      "417/417 [==============================] - 1s 2ms/step - loss: 0.2126 - mse: 0.2126\n",
      "Epoch 2/5\n",
      "417/417 [==============================] - 1s 2ms/step - loss: 0.0030 - mse: 0.0030\n",
      "Epoch 3/5\n",
      "417/417 [==============================] - 1s 2ms/step - loss: 0.0017 - mse: 0.0017\n",
      "Epoch 4/5\n",
      "417/417 [==============================] - 1s 2ms/step - loss: 0.0016 - mse: 0.0016\n",
      "Epoch 5/5\n",
      "417/417 [==============================] - 1s 2ms/step - loss: 0.0016 - mse: 0.0016\n"
     ]
    },
    {
     "data": {
      "text/plain": "<tensorflow.python.keras.callbacks.History at 0x22b0993a4c8>"
     },
     "execution_count": 159,
     "metadata": {},
     "output_type": "execute_result"
    }
   ],
   "source": [
    "model.fit(X_train, X_train,\n",
    "          epochs=5,\n",
    "          batch_size=512,\n",
    "          verbose=1)"
   ],
   "metadata": {
    "collapsed": false,
    "pycharm": {
     "name": "#%%\n"
    }
   }
  },
  {
   "cell_type": "code",
   "execution_count": 160,
   "outputs": [
    {
     "data": {
      "text/plain": "(71202, 30)"
     },
     "execution_count": 160,
     "metadata": {},
     "output_type": "execute_result"
    }
   ],
   "source": [
    "pred = model.predict(X_valid)\n",
    "pred.shape"
   ],
   "metadata": {
    "collapsed": false,
    "pycharm": {
     "name": "#%%\n"
    }
   }
  },
  {
   "cell_type": "code",
   "execution_count": 161,
   "outputs": [
    {
     "name": "stdout",
     "output_type": "stream",
     "text": [
      "count    7.120200e+04\n",
      "mean     3.706589e+12\n",
      "std      1.007135e+13\n",
      "min      2.211334e+09\n",
      "25%      1.075588e+12\n",
      "50%      2.270639e+12\n",
      "75%      4.225557e+12\n",
      "max      5.717322e+14\n",
      "dtype: float64\n",
      "0    3.751441e+12\n",
      "1    2.091650e+12\n",
      "2    3.242498e+11\n",
      "3    3.132237e+12\n",
      "4    1.662170e+12\n",
      "dtype: float64\n"
     ]
    }
   ],
   "source": [
    "from sklearn.covariance import EmpiricalCovariance\n",
    "\n",
    "# 공분산행렬 계산\n",
    "emp_cov = EmpiricalCovariance().fit(pred)\n",
    "\n",
    "# 마할라노비스 거리\n",
    "outlier_score = emp_cov.mahalanobis(X_valid)\n",
    "outlier_score = pd.Series(outlier_score)\n",
    "\n",
    "print(outlier_score.describe())\n",
    "print(outlier_score.head())"
   ],
   "metadata": {
    "collapsed": false,
    "pycharm": {
     "name": "#%%\n"
    }
   }
  },
  {
   "cell_type": "code",
   "execution_count": 162,
   "outputs": [
    {
     "data": {
      "text/plain": "<Figure size 432x288 with 1 Axes>",
      "image/png": "[encoded data removed]"
     },
     "metadata": {
      "needs_background": "light"
     },
     "output_type": "display_data"
    }
   ],
   "source": [
    "outlier_score_np = outlier_score.to_numpy()\n",
    "outlier_score_np = np.sort(outlier_score_np)\n",
    "outlier_score_np = MinMaxScaler().fit_transform(outlier_score_np.reshape(-1, 1))\n",
    "import matplotlib.pyplot as plt\n",
    "\n",
    "plt.plot(outlier_score_np)\n",
    "plt.show()"
   ],
   "metadata": {
    "collapsed": false,
    "pycharm": {
     "name": "#%%\n"
    }
   }
  },
  {
   "cell_type": "code",
   "execution_count": 163,
   "outputs": [
    {
     "name": "stdout",
     "output_type": "stream",
     "text": [
      "accuracy : 0.9983567877306817\n",
      "precision : 1.0\n",
      "recall : 0.04878048780487805\n",
      "f1 : 0.09302325581395349\n"
     ]
    }
   ],
   "source": [
    "from sklearn.metrics import precision_score, recall_score, f1_score, accuracy_score\n",
    "\n",
    "outlier_score_np = outlier_score.to_numpy()\n",
    "outlier_score_np = MinMaxScaler().fit_transform(outlier_score_np.reshape(-1, 1))\n",
    "# print(outlier_score_np)\n",
    "# plt.plot(outlier_score_np)\n",
    "# plt.show()\n",
    "\n",
    "threshold = 0.8\n",
    "pred_label = [1 if i > threshold else 0 for i in outlier_score_np ]\n",
    "\n",
    "\n",
    "print(\"accuracy :\", accuracy_score(y_true=y_valid, y_pred=pred_label))  # imbalance data이기 때문에 별 의미 없음\n",
    "print(\"precision :\", precision_score(y_true=y_valid, y_pred=pred_label))  # anomaly detection에선 정밀도가 더 중요!\n",
    "print(\"recall :\", recall_score(y_true=y_valid, y_pred=pred_label))\n",
    "print(\"f1 :\", f1_score(y_true=y_valid, y_pred=pred_label))"
   ],
   "metadata": {
    "collapsed": false,
    "pycharm": {
     "name": "#%%\n"
    }
   }
  },
  {
   "cell_type": "code",
   "execution_count": 164,
   "outputs": [
    {
     "name": "stdout",
     "output_type": "stream",
     "text": [
      "0.42176870748299317\n",
      "11\n"
     ]
    }
   ],
   "source": [
    "from sklearn.metrics import precision_score, recall_score, f1_score, accuracy_score\n",
    "\n",
    "outlier_score_np = outlier_score.to_numpy()\n",
    "outlier_score_np = MinMaxScaler().fit_transform(outlier_score_np.reshape(-1, 1))\n",
    "# print(outlier_score_np)\n",
    "# plt.plot(outlier_score_np)\n",
    "# plt.show()\n",
    "\n",
    "maxvalue = 0\n",
    "maxindex = 0\n",
    "for t in range(100):\n",
    "\n",
    "    threshold = t / 100.\n",
    "    pred_label = [1 if i > threshold else 0 for i in outlier_score_np ]\n",
    "\n",
    "\n",
    "    # print(\"accuracy :\", accuracy_score(y_true=y_valid, y_pred=pred_label))  # imbalance data이기 때문에 별 의미 없음\n",
    "    # print(\"precision :\", precision_score(y_true=y_valid, y_pred=pred_label))  # anomaly detection에선 정밀도가 더 중요!\n",
    "    # print(\"recall :\", recall_score(y_true=y_valid, y_pred=pred_label))\n",
    "    # print(\"f1 :\", f1_score(y_true=y_valid, y_pred=pred_label))\n",
    "\n",
    "    if f1_score(y_true=y_valid, y_pred=pred_label) > maxvalue:\n",
    "        maxvalue = f1_score(y_true=y_valid, y_pred=pred_label)\n",
    "        maxindex = t\n",
    "\n",
    "print(maxvalue)\n",
    "print(maxindex)"
   ],
   "metadata": {
    "collapsed": false,
    "pycharm": {
     "name": "#%%\n"
    }
   }
  },
  {
   "cell_type": "code",
   "execution_count": 208,
   "outputs": [
    {
     "name": "stdout",
     "output_type": "stream",
     "text": [
      "(71202, 30)\n",
      "                  0\n",
      "count  71202.000000\n",
      "mean       0.208369\n",
      "std        0.070492\n",
      "min        0.076739\n",
      "25%        0.161633\n",
      "50%        0.198015\n",
      "75%        0.243739\n",
      "max        1.453810\n"
     ]
    },
    {
     "data": {
      "text/plain": "<Figure size 432x288 with 1 Axes>",
      "image/png": "[encoded data removed]"
     },
     "metadata": {
      "needs_background": "light"
     },
     "output_type": "display_data"
    }
   ],
   "source": [
    "from numpy.linalg import norm\n",
    "\n",
    "\n",
    "print((X_valid-pred).shape)\n",
    "a = norm(X_valid-pred, axis=1, ord=2)\n",
    "\n",
    "b = pd.DataFrame(a)\n",
    "print(b.describe())\n",
    "\n",
    "a.sort()\n",
    "\n",
    "plt.plot(a)\n",
    "plt.show()"
   ],
   "metadata": {
    "collapsed": false,
    "pycharm": {
     "name": "#%%\n"
    }
   }
  }
 ],
 "metadata": {
  "kernelspec": {
   "display_name": "Python 3",
   "language": "python",
   "name": "python3"
  },
  "language_info": {
   "codemirror_mode": {
    "name": "ipython",
    "version": 2
   },
   "file_extension": ".py",
   "mimetype": "text/x-python",
   "name": "python",
   "nbconvert_exporter": "python",
   "pygments_lexer": "ipython2",
   "version": "2.7.6"
  }
 },
 "nbformat": 4,
 "nbformat_minor": 0
}